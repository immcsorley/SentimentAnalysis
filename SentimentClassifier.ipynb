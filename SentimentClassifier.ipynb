{
 "cells": [
  {
   "cell_type": "markdown",
   "id": "0eb9c5ef",
   "metadata": {},
   "source": [
    "# Sentiment Classifier\n",
    "In this notebook we develop a sentiment classifier using mutiple machine learning techniques and find the best model for our sample data from the hill news articles"
   ]
  },
  {
   "cell_type": "markdown",
   "id": "0c7d85c0",
   "metadata": {},
   "source": [
    "### Reading Newly Created csv file in with sentiment "
   ]
  },
  {
   "cell_type": "code",
   "execution_count": 8,
   "id": "ffe5c7ac",
   "metadata": {},
   "outputs": [],
   "source": [
    "import pandas as pd"
   ]
  },
  {
   "cell_type": "code",
   "execution_count": 13,
   "id": "edd2db47",
   "metadata": {},
   "outputs": [],
   "source": [
    "df=pd.read_csv('sample_sentences_final.csv')"
   ]
  },
  {
   "cell_type": "code",
   "execution_count": 19,
   "id": "57f30c5a",
   "metadata": {},
   "outputs": [],
   "source": [
    "# Rename column\n",
    "df = df.rename(columns={'classification (positive, neutral, negative)': 'sentiment'})\n"
   ]
  },
  {
   "cell_type": "markdown",
   "id": "ea6222eb",
   "metadata": {},
   "source": [
    "### Mostly \"Neutral\" sentiments == Unbalanced Dataframe"
   ]
  },
  {
   "cell_type": "code",
   "execution_count": 32,
   "id": "f6cdc305",
   "metadata": {
    "scrolled": false
   },
   "outputs": [
    {
     "name": "stdout",
     "output_type": "stream",
     "text": [
      "neutral     1347\n",
      "negative     469\n",
      "positive     184\n",
      "Name: sentiment, dtype: int64\n"
     ]
    }
   ],
   "source": [
    "# Get the frequency of each value in the 'sentiment' column\n",
    "sentiment_counts = df['sentiment'].value_counts()\n",
    "print(sentiment_counts)"
   ]
  },
  {
   "cell_type": "markdown",
   "id": "0be4fa0b",
   "metadata": {},
   "source": [
    " This can lead to biased model predictions and poor generalization on new data."
   ]
  },
  {
   "cell_type": "markdown",
   "id": "2a661205",
   "metadata": {},
   "source": [
    "# Text Classifier"
   ]
  },
  {
   "cell_type": "markdown",
   "id": "0fe4776b",
   "metadata": {},
   "source": [
    " splits the dataset into training and testing sets, vectorizes the text data, trains classifiers, and evaluates their performance metrics. Note that the performance metrics use 'weighted' averaging to account for imbalanced classes."
   ]
  },
  {
   "cell_type": "code",
   "execution_count": 28,
   "id": "893f6bbe",
   "metadata": {
    "scrolled": false
   },
   "outputs": [
    {
     "name": "stderr",
     "output_type": "stream",
     "text": [
      "/home/imcsorley/.local/lib/python3.9/site-packages/sklearn/metrics/_classification.py:1318: UndefinedMetricWarning: Precision is ill-defined and being set to 0.0 in labels with no predicted samples. Use `zero_division` parameter to control this behavior.\n",
      "  _warn_prf(average, modifier, msg_start, len(result))\n"
     ]
    },
    {
     "name": "stdout",
     "output_type": "stream",
     "text": [
      "Multinomial Naive Bayes:\n",
      "Accuracy: 0.6575\n",
      "Precision: 0.6009\n",
      "Recall: 0.6575\n",
      "F1 Score: 0.5308\n",
      "\n",
      "Logistic Regression:\n",
      "Accuracy: 0.7200\n",
      "Precision: 0.7655\n",
      "Recall: 0.7200\n",
      "F1 Score: 0.6554\n",
      "\n",
      "Linear SVM:\n",
      "Accuracy: 0.7625\n",
      "Precision: 0.7585\n",
      "Recall: 0.7625\n",
      "F1 Score: 0.7417\n",
      "\n",
      "Decision Tree:\n",
      "Accuracy: 0.7075\n",
      "Precision: 0.7008\n",
      "Recall: 0.7075\n",
      "F1 Score: 0.7011\n",
      "\n",
      "Random Forest:\n",
      "Accuracy: 0.7550\n",
      "Precision: 0.7717\n",
      "Recall: 0.7550\n",
      "F1 Score: 0.7183\n",
      "\n",
      "K-Nearest Neighbors:\n",
      "Accuracy: 0.6850\n",
      "Precision: 0.6661\n",
      "Recall: 0.6850\n",
      "F1 Score: 0.6647\n",
      "\n"
     ]
    },
    {
     "name": "stderr",
     "output_type": "stream",
     "text": [
      "/home/imcsorley/.local/lib/python3.9/site-packages/sklearn/neighbors/_classification.py:228: FutureWarning: Unlike other reduction functions (e.g. `skew`, `kurtosis`), the default behavior of `mode` typically preserves the axis it acts along. In SciPy 1.11.0, this behavior will change: the default value of `keepdims` will become False, the `axis` over which the statistic is taken will be eliminated, and the value None will no longer be accepted. Set `keepdims` to True or False to avoid this warning.\n",
      "  mode, _ = stats.mode(_y[neigh_ind, k], axis=1)\n"
     ]
    },
    {
     "name": "stdout",
     "output_type": "stream",
     "text": [
      "Neural Network (MLP):\n",
      "Accuracy: 0.7500\n",
      "Precision: 0.7402\n",
      "Recall: 0.7500\n",
      "F1 Score: 0.7340\n",
      "\n"
     ]
    }
   ],
   "source": [
    "import pandas as pd\n",
    "from sklearn.model_selection import train_test_split\n",
    "from sklearn.feature_extraction.text import CountVectorizer, TfidfVectorizer\n",
    "from sklearn.metrics import accuracy_score, precision_score, recall_score, f1_score\n",
    "from sklearn.naive_bayes import MultinomialNB\n",
    "from sklearn.linear_model import LogisticRegression\n",
    "from sklearn.svm import LinearSVC\n",
    "from sklearn.tree import DecisionTreeClassifier\n",
    "from sklearn.ensemble import RandomForestClassifier\n",
    "from sklearn.neighbors import KNeighborsClassifier\n",
    "from sklearn.neural_network import MLPClassifier\n",
    "\n",
    "# Split the dataset into training and testing sets\n",
    "X_train, X_test, y_train, y_test = train_test_split(df['sentence'], df['sentiment'], test_size=0.2, random_state=42)\n",
    "\n",
    "# Vectorize the text data using CountVectorizer or TfidfVectorizer\n",
    "vectorizer = TfidfVectorizer()\n",
    "X_train_vec = vectorizer.fit_transform(X_train)\n",
    "X_test_vec = vectorizer.transform(X_test)\n",
    "\n",
    "# Define classifiers\n",
    "classifiers = [\n",
    "    ('Multinomial Naive Bayes', MultinomialNB()),\n",
    "    ('Logistic Regression', LogisticRegression(max_iter=1000)),\n",
    "    ('SVM', LinearSVC()),\n",
    "    ('Decision Tree', DecisionTreeClassifier()),\n",
    "    ('Random Forest', RandomForestClassifier()),\n",
    "    ('K-Nearest Neighbors', KNeighborsClassifier()),\n",
    "    ('Neural Network (MLP)', MLPClassifier(hidden_layer_sizes=(100,), max_iter=1000, random_state=42))\n",
    "]\n",
    "\n",
    "# Train and evaluate classifiers\n",
    "for name, classifier in classifiers:\n",
    "    # Train the classifier\n",
    "    classifier.fit(X_train_vec, y_train)\n",
    "\n",
    "    # Make predictions\n",
    "    y_pred = classifier.predict(X_test_vec)\n",
    "\n",
    "    # Calculate performance metrics\n",
    "    accuracy = accuracy_score(y_test, y_pred)\n",
    "    precision = precision_score(y_test, y_pred, average='weighted')\n",
    "    recall = recall_score(y_test, y_pred, average='weighted')\n",
    "    f1 = f1_score(y_test, y_pred, average='weighted')\n",
    "\n",
    "    # Print performance metrics\n",
    "    print(f\"{name}:\\nAccuracy: {accuracy:.4f}\\nPrecision: {precision:.4f}\\nRecall: {recall:.4f}\\nF1 Score: {f1:.4f}\\n\")\n"
   ]
  },
  {
   "cell_type": "markdown",
   "id": "23f51149",
   "metadata": {},
   "source": [
    "### Best Performance"
   ]
  },
  {
   "cell_type": "markdown",
   "id": "513d579f",
   "metadata": {},
   "source": [
    "Based on the performance metrics, SVM seems to be the best model among the classifiers. It has the highest accuracy and F1 score, which are commonly used evaluation metrics for classification tasks. \n",
    "\n",
    "Accuracy: 0.7625\n",
    "\n",
    "Precision: 0.7585\n",
    "\n",
    "Recall: 0.7625\n",
    "\n",
    "F1 Score: 0.7417"
   ]
  },
  {
   "cell_type": "code",
   "execution_count": null,
   "id": "02e3a3e2",
   "metadata": {},
   "outputs": [],
   "source": []
  },
  {
   "cell_type": "code",
   "execution_count": 30,
   "id": "6fab2fd0",
   "metadata": {},
   "outputs": [
    {
     "name": "stdout",
     "output_type": "stream",
     "text": [
      "      category                                           sentence sentiment  \\\n",
      "0     business               Someone forward you this newsletter?   neutral   \n",
      "1      opinion  He was impeached (indicted, in a sense) for th...  negative   \n",
      "2       policy  Crypto‚Äôs market cap is sitting right around ...  negative   \n",
      "3      opinion  When it comes to fighting and ultimately defea...   neutral   \n",
      "4      opinion  Weapons of war, such as AR-style firearms and ...   neutral   \n",
      "...        ...                                                ...       ...   \n",
      "1995    policy  Beyond seasonal mood changes, recent years hav...   neutral   \n",
      "1996   opinion  Transmission is occurring mainly in health car...   neutral   \n",
      "1997  business  ), whose state has¬†legalized¬†recreational ma...   neutral   \n",
      "1998   opinion  Carolyn Kissane, Ph.D., is assistant dean of t...   neutral   \n",
      "1999   opinion  In fact, data shows that women have been revie...   neutral   \n",
      "\n",
      "     SVM Classification  \n",
      "0               neutral  \n",
      "1              negative  \n",
      "2              negative  \n",
      "3               neutral  \n",
      "4              negative  \n",
      "...                 ...  \n",
      "1995            neutral  \n",
      "1996            neutral  \n",
      "1997            neutral  \n",
      "1998            neutral  \n",
      "1999            neutral  \n",
      "\n",
      "[2000 rows x 4 columns]\n"
     ]
    }
   ],
   "source": [
    "# Creating new column for SVM classification\n",
    "\n",
    "# Vectorize the text data using TfidfVectorizer\n",
    "vectorizer = TfidfVectorizer()\n",
    "X = vectorizer.fit_transform(df['sentence'])\n",
    "y = df['sentiment']\n",
    "\n",
    "# Train the Linear SVM classifier on the entire dataset\n",
    "svm_classifier = LinearSVC()\n",
    "svm_classifier.fit(X, y)\n",
    "\n",
    "# Make predictions using the trained classifier\n",
    "svm_predictions = svm_classifier.predict(X)\n",
    "\n",
    "# Add the predictions as a new column in the DataFrame\n",
    "df['SVM Classification'] = svm_predictions\n"
   ]
  },
  {
   "cell_type": "markdown",
   "id": "b55243dd",
   "metadata": {},
   "source": [
    "### Finding average sentiment scores for each category of article"
   ]
  },
  {
   "cell_type": "code",
   "execution_count": 36,
   "id": "b084b4b4",
   "metadata": {},
   "outputs": [
    {
     "name": "stdout",
     "output_type": "stream",
     "text": [
      "category\n",
      "business   -0.008427\n",
      "news       -0.036232\n",
      "opinion    -0.255947\n",
      "policy     -0.009464\n",
      "Name: Sentiment Scores, dtype: float64\n"
     ]
    }
   ],
   "source": [
    "# Assign numerical scores to the sentiments\n",
    "sentiment_scores = df['sentiment'].map({'negative': -1, 'neutral': 0, 'positive': 1})\n",
    "\n",
    "# Add the sentiment scores as a new column in the DataFrame\n",
    "df['Sentiment Scores'] = sentiment_scores\n",
    "\n",
    "# Group the DataFrame by the 'category' column and calculate the mean sentiment score for each group\n",
    "average_sentiment_by_category = df.groupby('category')['Sentiment Scores'].mean()\n",
    "\n",
    "print(average_sentiment_by_category)"
   ]
  },
  {
   "cell_type": "markdown",
   "id": "b4ab50e7",
   "metadata": {},
   "source": [
    "**Interpretation**: All scores are slightly negative, but very close to zero indicating mostly neutral. Opinion has the strongest negative average sentiment score, which makes sense as the opinion section does not attempt to stay un-biased. This indicates that the opinion section has more negative sentiments based on our sample of data.  "
   ]
  },
  {
   "cell_type": "markdown",
   "id": "d8d18440",
   "metadata": {},
   "source": [
    "## Testing the SVM Classifier on 10 random sentences"
   ]
  },
  {
   "cell_type": "code",
   "execution_count": 37,
   "id": "fd362acf",
   "metadata": {},
   "outputs": [
    {
     "name": "stdout",
     "output_type": "stream",
     "text": [
      "Sentence: I love this product! It's amazing.\n",
      "Predicted Sentiment: neutral\n",
      "\n",
      "Sentence: The movie was really boring and uninteresting.\n",
      "Predicted Sentiment: neutral\n",
      "\n",
      "Sentence: This restaurant serves the best pizza in town.\n",
      "Predicted Sentiment: neutral\n",
      "\n",
      "Sentence: The customer service was terrible and rude.\n",
      "Predicted Sentiment: neutral\n",
      "\n",
      "Sentence: The new policy changes seem to be reasonable.\n",
      "Predicted Sentiment: neutral\n",
      "\n",
      "Sentence: The weather today is quite pleasant.\n",
      "Predicted Sentiment: negative\n",
      "\n",
      "Sentence: I'm extremely disappointed with the quality of the shoes.\n",
      "Predicted Sentiment: negative\n",
      "\n",
      "Sentence: The event was well-organized and enjoyable.\n",
      "Predicted Sentiment: neutral\n",
      "\n",
      "Sentence: I had an average experience at the hotel.\n",
      "Predicted Sentiment: neutral\n",
      "\n",
      "Sentence: The book is not good, but not bad either.\n",
      "Predicted Sentiment: neutral\n",
      "\n"
     ]
    }
   ],
   "source": [
    "# 10 random sentences with varying sentiments\n",
    "random_sentences = [\n",
    "    \"I love this product! It's amazing.\",\n",
    "    \"The movie was really boring and uninteresting.\",\n",
    "    \"This restaurant serves the best pizza in town.\",\n",
    "    \"The customer service was terrible and rude.\",\n",
    "    \"The new policy changes seem to be reasonable.\",\n",
    "    \"The weather today is quite pleasant.\",\n",
    "    \"I'm extremely disappointed with the quality of the shoes.\",\n",
    "    \"The event was well-organized and enjoyable.\",\n",
    "    \"I had an average experience at the hotel.\",\n",
    "    \"The book is not good, but not bad either.\"\n",
    "]\n",
    "\n",
    "# Transform the sentences using the same vectorizer used for training\n",
    "random_sentences_vec = vectorizer.transform(random_sentences)\n",
    "\n",
    "# Make predictions using the trained classifier\n",
    "predicted_sentiments = svm_classifier.predict(random_sentences_vec)\n",
    "\n",
    "# Print the predictions for the random sentences\n",
    "for sentence, sentiment in zip(random_sentences, predicted_sentiments):\n",
    "    print(f\"Sentence: {sentence}\\nPredicted Sentiment: {sentiment}\\n\")"
   ]
  },
  {
   "cell_type": "markdown",
   "id": "951f3372",
   "metadata": {},
   "source": [
    "**Interpretation**: Since our dataset was very unbalanced with mostly neutral sentiments, our model **overfit** to this dataset and predicts more neutral sentiments. This shows although our model has relatively high performance on our training/testing data, this will **not** perform well in a real world setting"
   ]
  },
  {
   "cell_type": "code",
   "execution_count": null,
   "id": "11e237cc",
   "metadata": {},
   "outputs": [],
   "source": []
  }
 ],
 "metadata": {
  "kernelspec": {
   "display_name": "Python 3 (ipykernel)",
   "language": "python",
   "name": "python3"
  },
  "language_info": {
   "codemirror_mode": {
    "name": "ipython",
    "version": 3
   },
   "file_extension": ".py",
   "mimetype": "text/x-python",
   "name": "python",
   "nbconvert_exporter": "python",
   "pygments_lexer": "ipython3",
   "version": "3.9.1"
  }
 },
 "nbformat": 4,
 "nbformat_minor": 5
}
